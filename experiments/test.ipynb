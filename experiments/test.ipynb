{
 "cells": [
  {
   "cell_type": "code",
   "execution_count": 1,
   "id": "e899e394",
   "metadata": {},
   "outputs": [
    {
     "name": "stdout",
     "output_type": "stream",
     "text": [
      "2025-05-12 19:28:05 | INFO | Loading settings from the ZenML secret store.\n",
      "2025-05-12 19:28:06 | WARNING | Failed to load settings from the ZenML secret store. Defaulting to loading the settings from the '.env' file.\n"
     ]
    }
   ],
   "source": [
    "from src.constants import *\n",
    "import matplotlib.pyplot as plt\n",
    "import tensorflow as tf"
   ]
  },
  {
   "cell_type": "code",
   "execution_count": 2,
   "id": "3d40dd26",
   "metadata": {},
   "outputs": [
    {
     "name": "stdout",
     "output_type": "stream",
     "text": [
      "C:\\Users\\souss\\Desktop\\DE\\xaipneumonia\n"
     ]
    }
   ],
   "source": [
    "print(PROJECT_BASE_DIR)"
   ]
  },
  {
   "cell_type": "code",
   "execution_count": 3,
   "id": "141a62e7",
   "metadata": {},
   "outputs": [
    {
     "name": "stdout",
     "output_type": "stream",
     "text": [
      "C:\\Users\\souss\\Desktop\\DE\\xaipneumonia\\config\\config.yaml\n"
     ]
    }
   ],
   "source": [
    "print(CONFIG_FILE_PATH)"
   ]
  },
  {
   "cell_type": "code",
   "execution_count": 4,
   "id": "8555fdd0",
   "metadata": {},
   "outputs": [],
   "source": [
    "from src.utils.configuration import ConfigurationManager"
   ]
  },
  {
   "cell_type": "code",
   "execution_count": 5,
   "id": "64d2e556",
   "metadata": {},
   "outputs": [
    {
     "name": "stdout",
     "output_type": "stream",
     "text": [
      "{'data_ingestion': {'data_source': 'data/chestxray', 'cache_dir': 'data/hf_cache'}, 'data_processing': {'batch_size': 8, 'normalize': True, 'augment': True, 'image_size': [240, 240], 'augmentation_config': {'featurewise_center': False, 'samplewise_center': False, 'featurewise_std_normalization': False, 'samplewise_std_normalization': False, 'zca_whitening': False, 'rotation_range': 30, 'zoom_range': 0.2, 'width_shift_range': 0.1, 'height_shift_range': 0.1, 'horizontal_flip': True, 'vertical_flip': False}}}\n",
      "2025-05-12 19:28:11 | INFO | yaml file: C:\\Users\\souss\\Desktop\\DE\\xaipneumonia\\config\\config.yaml loaded successfully\n",
      "2025-05-12 19:28:11 | INFO | created directory at: data/hf_cache\n",
      "data_source='C:\\\\Users\\\\souss\\\\Desktop\\\\DE\\\\xaipneumonia\\\\data\\\\chestxray' cache_dir='C:\\\\Users\\\\souss\\\\Desktop\\\\DE\\\\xaipneumonia\\\\data\\\\hf_cache'\n"
     ]
    }
   ],
   "source": [
    "config = ConfigurationManager()\n",
    "data_config = config.get_data_ingestion_config()\n",
    "print(data_config)"
   ]
  },
  {
   "cell_type": "code",
   "execution_count": 6,
   "id": "2f376fc5",
   "metadata": {},
   "outputs": [
    {
     "name": "stdout",
     "output_type": "stream",
     "text": [
      "<class 'str'> <class 'str'>\n"
     ]
    }
   ],
   "source": [
    "print(type(data_config.data_source), type(data_config.cache_dir))"
   ]
  },
  {
   "cell_type": "code",
   "execution_count": 7,
   "id": "7985280f",
   "metadata": {},
   "outputs": [],
   "source": [
    "from pipelines.data_pipeline import data_pipeline"
   ]
  },
  {
   "cell_type": "code",
   "execution_count": 8,
   "id": "a3332f8f",
   "metadata": {},
   "outputs": [
    {
     "data": {
      "text/plain": [
       "DataPreprocessingConfig(normalize=True, augment=True, batch_size=8, image_size=[240, 240], augmentation_config=DataAugmentationConfig(featurewise_center=False, samplewise_center=False, featurewise_std_normalization=False, samplewise_std_normalization=False, zca_whitening=False, rotation_range=30, zoom_range=0.2, width_shift_range=0.1, height_shift_range=0.1, horizontal_flip=True, vertical_flip=False))"
      ]
     },
     "execution_count": 8,
     "metadata": {},
     "output_type": "execute_result"
    }
   ],
   "source": [
    "data_preprocess_config = config.get_data_preprocess_config()\n",
    "data_preprocess_config"
   ]
  },
  {
   "cell_type": "code",
   "execution_count": 9,
   "id": "a36cafb4",
   "metadata": {},
   "outputs": [
    {
     "name": "stdout",
     "output_type": "stream",
     "text": [
      "2025-05-12 19:28:12 | INFO | created directory at: data/hf_cache\n"
     ]
    },
    {
     "data": {
      "text/plain": [
       "DataIngestionConfig(data_source='C:\\\\Users\\\\souss\\\\Desktop\\\\DE\\\\xaipneumonia\\\\data\\\\chestxray', cache_dir='C:\\\\Users\\\\souss\\\\Desktop\\\\DE\\\\xaipneumonia\\\\data\\\\hf_cache')"
      ]
     },
     "execution_count": 9,
     "metadata": {},
     "output_type": "execute_result"
    }
   ],
   "source": [
    "data_inngestion_config = config.get_data_ingestion_config()\n",
    "data_inngestion_config"
   ]
  },
  {
   "cell_type": "code",
   "execution_count": null,
   "id": "fc8a3280",
   "metadata": {},
   "outputs": [
    {
     "name": "stdout",
     "output_type": "stream",
     "text": [
      "2025-05-12 19:28:12 | INFO | Data pipeline completed successfully.\n",
      "\u001b[1;35mInitiating a new run for the pipeline: \u001b[0m\u001b[1;36mdata_pipeline\u001b[1;35m.\u001b[0m\n"
     ]
    },
    {
     "name": "stdout",
     "output_type": "stream",
     "text": [
      "\u001b[1;35mUsing user: \u001b[0m\u001b[1;36mdefault\u001b[1;35m\u001b[0m\n",
      "\u001b[1;35mUsing stack: \u001b[0m\u001b[1;36mdefault\u001b[1;35m\u001b[0m\n",
      "\u001b[1;35m  orchestrator: \u001b[0m\u001b[1;36mdefault\u001b[1;35m\u001b[0m\n",
      "\u001b[1;35m  artifact_store: \u001b[0m\u001b[1;36mdefault\u001b[1;35m\u001b[0m\n",
      "\u001b[1;35mYou can visualize your pipeline runs in the \u001b[0m\u001b[1;36mZenML Dashboard\u001b[1;35m. In order to try it locally, please run \u001b[0m\u001b[1;36mzenml login --local\u001b[1;35m.\u001b[0m\n",
      "\u001b[1;35mStep \u001b[0m\u001b[1;36mingestion\u001b[1;35m has started.\u001b[0m\n",
      "[ingestion] 2025-05-12 19:28:17 | INFO | Data ingested successfully\n",
      "[ingestion] 2025-05-12 19:28:17 | INFO | Data ingested successfully\n",
      "[ingestion] 2025-05-12 19:28:17 | INFO | Train directory: C:\\Users\\souss\\Desktop\\DE\\xaipneumonia\\data\\chestxray\\train\n",
      "[ingestion] 2025-05-12 19:28:17 | INFO | Validation directory: C:\\Users\\souss\\Desktop\\DE\\xaipneumonia\\data\\chestxray\\val\n",
      "[ingestion] 2025-05-12 19:28:17 | INFO | Test directory: C:\\Users\\souss\\Desktop\\DE\\xaipneumonia\\data\\chestxray\\test\n",
      "\u001b[1;35mStep \u001b[0m\u001b[1;36mingestion\u001b[1;35m has finished in \u001b[0m\u001b[1;36m1m22s\u001b[1;35m.\u001b[0m\n",
      "\u001b[1;35mStep \u001b[0m\u001b[1;36mpreprocessing_step\u001b[1;35m has started.\u001b[0m\n",
      "[preprocessing_step] Found 5216 images belonging to 2 classes.\n",
      "[preprocessing_step] Found 16 images belonging to 2 classes.\n",
      "[preprocessing_step] Found 624 images belonging to 2 classes.\n",
      "[preprocessing_step] 2025-05-12 19:30:06 | INFO | Preprocessing completed successfully\n"
     ]
    }
   ],
   "source": [
    "data_pipeline(data_inngestion_config, data_preprocess_config)\n"
   ]
  },
  {
   "cell_type": "code",
   "execution_count": null,
   "id": "74c7d6dc",
   "metadata": {},
   "outputs": [],
   "source": []
  },
  {
   "cell_type": "markdown",
   "id": "cc5aaa24",
   "metadata": {},
   "source": []
  }
 ],
 "metadata": {
  "kernelspec": {
   "display_name": "src-9pV2zt4C-py3.10",
   "language": "python",
   "name": "python3"
  },
  "language_info": {
   "codemirror_mode": {
    "name": "ipython",
    "version": 3
   },
   "file_extension": ".py",
   "mimetype": "text/x-python",
   "name": "python",
   "nbconvert_exporter": "python",
   "pygments_lexer": "ipython3",
   "version": "3.10.11"
  }
 },
 "nbformat": 4,
 "nbformat_minor": 5
}
