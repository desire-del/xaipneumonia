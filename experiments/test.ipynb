{
 "cells": [
  {
   "cell_type": "code",
   "execution_count": 1,
   "id": "e899e394",
   "metadata": {},
   "outputs": [
    {
     "name": "stdout",
     "output_type": "stream",
     "text": [
      "2025-05-11 20:21:51 | INFO | Loading settings from the ZenML secret store.\n",
      "2025-05-11 20:21:52 | WARNING | Failed to load settings from the ZenML secret store. Defaulting to loading the settings from the '.env' file.\n"
     ]
    }
   ],
   "source": [
    "from src.constants import *"
   ]
  },
  {
   "cell_type": "code",
   "execution_count": 2,
   "id": "3d40dd26",
   "metadata": {},
   "outputs": [
    {
     "name": "stdout",
     "output_type": "stream",
     "text": [
      "C:\\Users\\souss\\Desktop\\DE\\xaipneumonia\n"
     ]
    }
   ],
   "source": [
    "print(PROJECT_BASE_DIR)"
   ]
  },
  {
   "cell_type": "code",
   "execution_count": 3,
   "id": "141a62e7",
   "metadata": {},
   "outputs": [
    {
     "name": "stdout",
     "output_type": "stream",
     "text": [
      "C:\\Users\\souss\\Desktop\\DE\\xaipneumonia\\config\\config.yaml\n"
     ]
    }
   ],
   "source": [
    "print(CONFIG_FILE_PATH)"
   ]
  },
  {
   "cell_type": "code",
   "execution_count": 4,
   "id": "8555fdd0",
   "metadata": {},
   "outputs": [],
   "source": [
    "from src.utils.configuration import ConfigurationManager"
   ]
  },
  {
   "cell_type": "code",
   "execution_count": 5,
   "id": "64d2e556",
   "metadata": {},
   "outputs": [
    {
     "name": "stdout",
     "output_type": "stream",
     "text": [
      "{'data_ingestion': {'data_source': 'hf-vision/chest-xray-pneumonia', 'cache_dir': 'data/hf_cache'}}\n",
      "2025-05-11 20:21:53 | INFO | yaml file: C:\\Users\\souss\\Desktop\\DE\\xaipneumonia\\config\\config.yaml loaded successfully\n",
      "2025-05-11 20:21:53 | INFO | created directory at: data/hf_cache\n",
      "DataIngestionConfig(data_source=WindowsPath('hf-vision/chest-xray-pneumonia'), cache_dir='data/hf_cache')\n"
     ]
    }
   ],
   "source": [
    "config = ConfigurationManager()\n",
    "data_config = config.get_data_ingestion_config()\n",
    "print(data_config)"
   ]
  },
  {
   "cell_type": "markdown",
   "id": "cc5aaa24",
   "metadata": {},
   "source": []
  }
 ],
 "metadata": {
  "kernelspec": {
   "display_name": "src-9pV2zt4C-py3.10",
   "language": "python",
   "name": "python3"
  },
  "language_info": {
   "codemirror_mode": {
    "name": "ipython",
    "version": 3
   },
   "file_extension": ".py",
   "mimetype": "text/x-python",
   "name": "python",
   "nbconvert_exporter": "python",
   "pygments_lexer": "ipython3",
   "version": "3.10.11"
  }
 },
 "nbformat": 4,
 "nbformat_minor": 5
}
